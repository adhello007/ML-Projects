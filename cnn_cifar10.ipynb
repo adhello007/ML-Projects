{
  "nbformat": 4,
  "nbformat_minor": 0,
  "metadata": {
    "colab": {
      "provenance": [],
      "authorship_tag": "ABX9TyNY6tXUNYlhBPGkASeQRKm7",
      "include_colab_link": true
    },
    "kernelspec": {
      "name": "python3",
      "display_name": "Python 3"
    },
    "language_info": {
      "name": "python"
    },
    "accelerator": "GPU",
    "gpuClass": "standard"
  },
  "cells": [
    {
      "cell_type": "markdown",
      "metadata": {
        "id": "view-in-github",
        "colab_type": "text"
      },
      "source": [
        "<a href=\"https://colab.research.google.com/github/adhello007/ML-Projects/blob/main/cnn_cifar10.ipynb\" target=\"_parent\"><img src=\"https://colab.research.google.com/assets/colab-badge.svg\" alt=\"Open In Colab\"/></a>"
      ]
    },
    {
      "cell_type": "code",
      "execution_count": 1,
      "metadata": {
        "id": "pqhlItas_5G6",
        "colab": {
          "base_uri": "https://localhost:8080/"
        },
        "outputId": "61cd6ac2-bcc9-41f4-d11b-dd134bbbfa6a"
      },
      "outputs": [
        {
          "output_type": "stream",
          "name": "stdout",
          "text": [
            "Downloading data from https://www.cs.toronto.edu/~kriz/cifar-10-python.tar.gz\n",
            "170498071/170498071 [==============================] - 16s 0us/step\n"
          ]
        }
      ],
      "source": [
        "import numpy as np \n",
        "import pandas as pd \n",
        "import matplotlib.pyplot as plt \n",
        "import tensorflow as tf \n",
        "(x_train,y_train),(x_test,y_test) = tf.keras.datasets.cifar10.load_data()\n"
      ]
    },
    {
      "cell_type": "code",
      "source": [
        "shuffle = np.random.permutation(50000)\n",
        "x_train,y_train=x_train[shuffle],y_train[shuffle]"
      ],
      "metadata": {
        "id": "BjEcw1RUAvUW"
      },
      "execution_count": 2,
      "outputs": []
    },
    {
      "cell_type": "code",
      "source": [
        "x_train = x_train/255.\n",
        "x_test= x_test/255."
      ],
      "metadata": {
        "id": "bJgXF0lnAzyf"
      },
      "execution_count": 3,
      "outputs": []
    },
    {
      "cell_type": "code",
      "source": [
        "\n",
        "y_train,y_test = tf.keras.utils.to_categorical(y_train),tf.keras.utils.to_categorical(y_test)"
      ],
      "metadata": {
        "id": "-c5UDBCzA4ld"
      },
      "execution_count": 4,
      "outputs": []
    },
    {
      "cell_type": "code",
      "source": [
        "from tensorflow.keras.models import Sequential\n",
        "from tensorflow.keras.layers import Conv2D, MaxPooling2D, BatchNormalization, Flatten , Dense , Dropout \n",
        "\n",
        "model = Sequential()\n",
        "\n",
        "model.add(Conv2D(filters = 32,kernel_size=3,activation='relu',padding='same',input_shape=(32,32,3)))\n",
        "model.add(BatchNormalization())\n",
        "model.add(Conv2D(filters=32,kernel_size=3,activation='relu'))\n",
        "model.add(MaxPooling2D(pool_size=2))\n",
        "model.add(Dropout(0.25))\n",
        "\n",
        "model.add(Conv2D(filters = 64,kernel_size=3,activation='relu',padding='same'))\n",
        "model.add(BatchNormalization())\n",
        "model.add(Conv2D(filters=64,kernel_size=3,activation='relu'))\n",
        "model.add(MaxPooling2D(pool_size=2))\n",
        "model.add(Dropout(0.25))\n",
        "\n",
        "model.add(Conv2D(filters = 64,kernel_size=3,activation='relu',padding='same'))\n",
        "model.add(BatchNormalization())\n",
        "model.add(Conv2D(filters=64,kernel_size=3,activation='relu'))\n",
        "model.add(MaxPooling2D(pool_size=2))\n",
        "model.add(Dropout(0.25))\n",
        "\n",
        "model.add(Flatten())\n",
        "model.add(Dense(128,activation='relu'))\n",
        "model.add(Dropout(0.5))\n",
        "model.add(Dense(64,activation='relu'))\n",
        "model.add(Dense(10,activation='softmax'))\n",
        "\n",
        "model.summary()\n",
        "          \n"
      ],
      "metadata": {
        "colab": {
          "base_uri": "https://localhost:8080/"
        },
        "id": "6jBoifMeA6XV",
        "outputId": "610a0269-65ca-43eb-c526-7c915fc0766e"
      },
      "execution_count": 5,
      "outputs": [
        {
          "output_type": "stream",
          "name": "stdout",
          "text": [
            "Model: \"sequential\"\n",
            "_________________________________________________________________\n",
            " Layer (type)                Output Shape              Param #   \n",
            "=================================================================\n",
            " conv2d (Conv2D)             (None, 32, 32, 32)        896       \n",
            "                                                                 \n",
            " batch_normalization (BatchN  (None, 32, 32, 32)       128       \n",
            " ormalization)                                                   \n",
            "                                                                 \n",
            " conv2d_1 (Conv2D)           (None, 30, 30, 32)        9248      \n",
            "                                                                 \n",
            " max_pooling2d (MaxPooling2D  (None, 15, 15, 32)       0         \n",
            " )                                                               \n",
            "                                                                 \n",
            " dropout (Dropout)           (None, 15, 15, 32)        0         \n",
            "                                                                 \n",
            " conv2d_2 (Conv2D)           (None, 15, 15, 64)        18496     \n",
            "                                                                 \n",
            " batch_normalization_1 (Batc  (None, 15, 15, 64)       256       \n",
            " hNormalization)                                                 \n",
            "                                                                 \n",
            " conv2d_3 (Conv2D)           (None, 13, 13, 64)        36928     \n",
            "                                                                 \n",
            " max_pooling2d_1 (MaxPooling  (None, 6, 6, 64)         0         \n",
            " 2D)                                                             \n",
            "                                                                 \n",
            " dropout_1 (Dropout)         (None, 6, 6, 64)          0         \n",
            "                                                                 \n",
            " conv2d_4 (Conv2D)           (None, 6, 6, 64)          36928     \n",
            "                                                                 \n",
            " batch_normalization_2 (Batc  (None, 6, 6, 64)         256       \n",
            " hNormalization)                                                 \n",
            "                                                                 \n",
            " conv2d_5 (Conv2D)           (None, 4, 4, 64)          36928     \n",
            "                                                                 \n",
            " max_pooling2d_2 (MaxPooling  (None, 2, 2, 64)         0         \n",
            " 2D)                                                             \n",
            "                                                                 \n",
            " dropout_2 (Dropout)         (None, 2, 2, 64)          0         \n",
            "                                                                 \n",
            " flatten (Flatten)           (None, 256)               0         \n",
            "                                                                 \n",
            " dense (Dense)               (None, 128)               32896     \n",
            "                                                                 \n",
            " dropout_3 (Dropout)         (None, 128)               0         \n",
            "                                                                 \n",
            " dense_1 (Dense)             (None, 64)                8256      \n",
            "                                                                 \n",
            " dense_2 (Dense)             (None, 10)                650       \n",
            "                                                                 \n",
            "=================================================================\n",
            "Total params: 181,866\n",
            "Trainable params: 181,546\n",
            "Non-trainable params: 320\n",
            "_________________________________________________________________\n"
          ]
        }
      ]
    },
    {
      "cell_type": "code",
      "source": [
        "from tensorflow.keras.optimizers import Adam\n",
        "opt = Adam(learning_rate=0.001,beta_1=0.9,beta_2=0.999,amsgrad=False)\n",
        "model.compile(\n",
        "    optimizer = opt,\n",
        "    loss = 'categorical_crossentropy',\n",
        "    metrics  =['accuracy']\n",
        ")\n",
        "model.summary()"
      ],
      "metadata": {
        "colab": {
          "base_uri": "https://localhost:8080/"
        },
        "id": "e3RAvTZ9A8_P",
        "outputId": "c443b8de-958b-432d-8f69-b698211ec6c0"
      },
      "execution_count": 6,
      "outputs": [
        {
          "output_type": "stream",
          "name": "stdout",
          "text": [
            "Model: \"sequential\"\n",
            "_________________________________________________________________\n",
            " Layer (type)                Output Shape              Param #   \n",
            "=================================================================\n",
            " conv2d (Conv2D)             (None, 32, 32, 32)        896       \n",
            "                                                                 \n",
            " batch_normalization (BatchN  (None, 32, 32, 32)       128       \n",
            " ormalization)                                                   \n",
            "                                                                 \n",
            " conv2d_1 (Conv2D)           (None, 30, 30, 32)        9248      \n",
            "                                                                 \n",
            " max_pooling2d (MaxPooling2D  (None, 15, 15, 32)       0         \n",
            " )                                                               \n",
            "                                                                 \n",
            " dropout (Dropout)           (None, 15, 15, 32)        0         \n",
            "                                                                 \n",
            " conv2d_2 (Conv2D)           (None, 15, 15, 64)        18496     \n",
            "                                                                 \n",
            " batch_normalization_1 (Batc  (None, 15, 15, 64)       256       \n",
            " hNormalization)                                                 \n",
            "                                                                 \n",
            " conv2d_3 (Conv2D)           (None, 13, 13, 64)        36928     \n",
            "                                                                 \n",
            " max_pooling2d_1 (MaxPooling  (None, 6, 6, 64)         0         \n",
            " 2D)                                                             \n",
            "                                                                 \n",
            " dropout_1 (Dropout)         (None, 6, 6, 64)          0         \n",
            "                                                                 \n",
            " conv2d_4 (Conv2D)           (None, 6, 6, 64)          36928     \n",
            "                                                                 \n",
            " batch_normalization_2 (Batc  (None, 6, 6, 64)         256       \n",
            " hNormalization)                                                 \n",
            "                                                                 \n",
            " conv2d_5 (Conv2D)           (None, 4, 4, 64)          36928     \n",
            "                                                                 \n",
            " max_pooling2d_2 (MaxPooling  (None, 2, 2, 64)         0         \n",
            " 2D)                                                             \n",
            "                                                                 \n",
            " dropout_2 (Dropout)         (None, 2, 2, 64)          0         \n",
            "                                                                 \n",
            " flatten (Flatten)           (None, 256)               0         \n",
            "                                                                 \n",
            " dense (Dense)               (None, 128)               32896     \n",
            "                                                                 \n",
            " dropout_3 (Dropout)         (None, 128)               0         \n",
            "                                                                 \n",
            " dense_1 (Dense)             (None, 64)                8256      \n",
            "                                                                 \n",
            " dense_2 (Dense)             (None, 10)                650       \n",
            "                                                                 \n",
            "=================================================================\n",
            "Total params: 181,866\n",
            "Trainable params: 181,546\n",
            "Non-trainable params: 320\n",
            "_________________________________________________________________\n"
          ]
        }
      ]
    },
    {
      "cell_type": "code",
      "source": [
        "training = model.fit(x_train,y_train,batch_size=64,epochs=30,validation_split=0.2)"
      ],
      "metadata": {
        "colab": {
          "base_uri": "https://localhost:8080/"
        },
        "id": "55mQ3xSMBAFW",
        "outputId": "0c4593e1-d4b2-4ec8-8501-95fec05b155d"
      },
      "execution_count": 7,
      "outputs": [
        {
          "output_type": "stream",
          "name": "stdout",
          "text": [
            "Epoch 1/30\n",
            "625/625 [==============================] - 19s 11ms/step - loss: 1.7923 - accuracy: 0.3297 - val_loss: 1.4392 - val_accuracy: 0.4613\n",
            "Epoch 2/30\n",
            "625/625 [==============================] - 7s 11ms/step - loss: 1.3723 - accuracy: 0.5092 - val_loss: 1.3124 - val_accuracy: 0.5334\n",
            "Epoch 3/30\n",
            "625/625 [==============================] - 6s 10ms/step - loss: 1.1849 - accuracy: 0.5801 - val_loss: 1.1344 - val_accuracy: 0.5926\n",
            "Epoch 4/30\n",
            "625/625 [==============================] - 7s 11ms/step - loss: 1.0712 - accuracy: 0.6229 - val_loss: 1.1219 - val_accuracy: 0.6048\n",
            "Epoch 5/30\n",
            "625/625 [==============================] - 6s 10ms/step - loss: 0.9926 - accuracy: 0.6521 - val_loss: 0.9031 - val_accuracy: 0.6788\n",
            "Epoch 6/30\n",
            "625/625 [==============================] - 8s 12ms/step - loss: 0.9201 - accuracy: 0.6792 - val_loss: 0.7967 - val_accuracy: 0.7179\n",
            "Epoch 7/30\n",
            "625/625 [==============================] - 6s 10ms/step - loss: 0.8631 - accuracy: 0.7041 - val_loss: 0.9565 - val_accuracy: 0.6596\n",
            "Epoch 8/30\n",
            "625/625 [==============================] - 6s 10ms/step - loss: 0.8236 - accuracy: 0.7176 - val_loss: 0.8318 - val_accuracy: 0.7127\n",
            "Epoch 9/30\n",
            "625/625 [==============================] - 6s 10ms/step - loss: 0.7775 - accuracy: 0.7367 - val_loss: 0.7209 - val_accuracy: 0.7482\n",
            "Epoch 10/30\n",
            "625/625 [==============================] - 7s 10ms/step - loss: 0.7448 - accuracy: 0.7496 - val_loss: 0.7131 - val_accuracy: 0.7553\n",
            "Epoch 11/30\n",
            "625/625 [==============================] - 6s 10ms/step - loss: 0.7150 - accuracy: 0.7563 - val_loss: 0.6538 - val_accuracy: 0.7716\n",
            "Epoch 12/30\n",
            "625/625 [==============================] - 6s 10ms/step - loss: 0.6889 - accuracy: 0.7652 - val_loss: 0.6454 - val_accuracy: 0.7751\n",
            "Epoch 13/30\n",
            "625/625 [==============================] - 6s 10ms/step - loss: 0.6682 - accuracy: 0.7725 - val_loss: 0.6618 - val_accuracy: 0.7703\n",
            "Epoch 14/30\n",
            "625/625 [==============================] - 6s 10ms/step - loss: 0.6507 - accuracy: 0.7792 - val_loss: 0.6950 - val_accuracy: 0.7646\n",
            "Epoch 15/30\n",
            "625/625 [==============================] - 6s 10ms/step - loss: 0.6254 - accuracy: 0.7871 - val_loss: 0.7040 - val_accuracy: 0.7649\n",
            "Epoch 16/30\n",
            "625/625 [==============================] - 7s 12ms/step - loss: 0.6122 - accuracy: 0.7914 - val_loss: 0.5827 - val_accuracy: 0.8031\n",
            "Epoch 17/30\n",
            "625/625 [==============================] - 7s 11ms/step - loss: 0.5972 - accuracy: 0.7976 - val_loss: 0.6260 - val_accuracy: 0.7914\n",
            "Epoch 18/30\n",
            "625/625 [==============================] - 6s 10ms/step - loss: 0.5808 - accuracy: 0.8037 - val_loss: 0.6680 - val_accuracy: 0.7776\n",
            "Epoch 19/30\n",
            "625/625 [==============================] - 6s 10ms/step - loss: 0.5734 - accuracy: 0.8067 - val_loss: 0.6134 - val_accuracy: 0.7978\n",
            "Epoch 20/30\n",
            "625/625 [==============================] - 7s 11ms/step - loss: 0.5590 - accuracy: 0.8127 - val_loss: 0.6393 - val_accuracy: 0.7836\n",
            "Epoch 21/30\n",
            "625/625 [==============================] - 7s 11ms/step - loss: 0.5528 - accuracy: 0.8124 - val_loss: 0.5639 - val_accuracy: 0.8109\n",
            "Epoch 22/30\n",
            "625/625 [==============================] - 6s 10ms/step - loss: 0.5370 - accuracy: 0.8184 - val_loss: 0.6207 - val_accuracy: 0.7996\n",
            "Epoch 23/30\n",
            "625/625 [==============================] - 6s 10ms/step - loss: 0.5258 - accuracy: 0.8210 - val_loss: 0.5971 - val_accuracy: 0.8017\n",
            "Epoch 24/30\n",
            "625/625 [==============================] - 6s 10ms/step - loss: 0.5174 - accuracy: 0.8236 - val_loss: 0.5660 - val_accuracy: 0.8159\n",
            "Epoch 25/30\n",
            "625/625 [==============================] - 7s 11ms/step - loss: 0.5031 - accuracy: 0.8291 - val_loss: 0.5448 - val_accuracy: 0.8177\n",
            "Epoch 26/30\n",
            "625/625 [==============================] - 6s 10ms/step - loss: 0.5029 - accuracy: 0.8316 - val_loss: 0.5531 - val_accuracy: 0.8121\n",
            "Epoch 27/30\n",
            "625/625 [==============================] - 7s 10ms/step - loss: 0.4974 - accuracy: 0.8323 - val_loss: 0.5438 - val_accuracy: 0.8140\n",
            "Epoch 28/30\n",
            "625/625 [==============================] - 6s 10ms/step - loss: 0.4909 - accuracy: 0.8339 - val_loss: 0.5707 - val_accuracy: 0.8098\n",
            "Epoch 29/30\n",
            "625/625 [==============================] - 7s 11ms/step - loss: 0.4837 - accuracy: 0.8364 - val_loss: 0.5542 - val_accuracy: 0.8190\n",
            "Epoch 30/30\n",
            "625/625 [==============================] - 7s 11ms/step - loss: 0.4800 - accuracy: 0.8384 - val_loss: 0.5250 - val_accuracy: 0.8261\n"
          ]
        }
      ]
    },
    {
      "cell_type": "code",
      "source": [
        "test_loss,test_accuracy = model.evaluate(x_test,y_test)"
      ],
      "metadata": {
        "colab": {
          "base_uri": "https://localhost:8080/"
        },
        "id": "ZHZAxcCiBClG",
        "outputId": "7101a85b-889e-47e0-be7d-696dfd52a4a1"
      },
      "execution_count": 8,
      "outputs": [
        {
          "output_type": "stream",
          "name": "stdout",
          "text": [
            "313/313 [==============================] - 1s 3ms/step - loss: 0.5546 - accuracy: 0.8200\n"
          ]
        }
      ]
    },
    {
      "cell_type": "code",
      "source": [
        "y_pred = model.predict(x_test)"
      ],
      "metadata": {
        "colab": {
          "base_uri": "https://localhost:8080/"
        },
        "id": "1LI4kvKKDsGR",
        "outputId": "e1823f4b-3d71-4c70-c59c-a74ae0566c83"
      },
      "execution_count": 9,
      "outputs": [
        {
          "output_type": "stream",
          "name": "stdout",
          "text": [
            "313/313 [==============================] - 1s 3ms/step\n"
          ]
        }
      ]
    },
    {
      "cell_type": "code",
      "source": [
        "y_pred.shape"
      ],
      "metadata": {
        "colab": {
          "base_uri": "https://localhost:8080/"
        },
        "id": "C8s9RtREF6qE",
        "outputId": "51f85905-1e5c-40d3-88fc-5e06e262cc8a"
      },
      "execution_count": 10,
      "outputs": [
        {
          "output_type": "execute_result",
          "data": {
            "text/plain": [
              "(10000, 10)"
            ]
          },
          "metadata": {},
          "execution_count": 10
        }
      ]
    },
    {
      "cell_type": "code",
      "source": [
        "y_pred = np.argmax(y_pred,axis=1)\n"
      ],
      "metadata": {
        "id": "xM_VHPdnF8F7"
      },
      "execution_count": 11,
      "outputs": []
    },
    {
      "cell_type": "code",
      "source": [
        "y_pred"
      ],
      "metadata": {
        "colab": {
          "base_uri": "https://localhost:8080/"
        },
        "id": "FcJXr6GSGC97",
        "outputId": "7dc46648-299c-451c-d7a1-963ee2dc8022"
      },
      "execution_count": 12,
      "outputs": [
        {
          "output_type": "execute_result",
          "data": {
            "text/plain": [
              "array([3, 8, 8, ..., 5, 1, 7])"
            ]
          },
          "metadata": {},
          "execution_count": 12
        }
      ]
    },
    {
      "cell_type": "code",
      "source": [
        "y_test = np.argmax(y_test,axis=1)"
      ],
      "metadata": {
        "id": "1aX3s2s0GEBb"
      },
      "execution_count": 13,
      "outputs": []
    },
    {
      "cell_type": "code",
      "source": [
        "import tensorflow as tf \n",
        "import seaborn as sn \n",
        "\n",
        "cm = tf.math.confusion_matrix(labels=y_test,predictions=y_pred)\n",
        "plt.figure(figsize=(10,7))\n",
        "sn.heatmap(cm,annot=True,fmt='d')\n",
        "plt.xlabel('Predicted')\n",
        "plt.ylabel('Ground Truth')\n"
      ],
      "metadata": {
        "colab": {
          "base_uri": "https://localhost:8080/",
          "height": 459
        },
        "id": "ThkGVARRGSCd",
        "outputId": "a65125ed-96bf-424a-cf0c-6d1b31651116"
      },
      "execution_count": 14,
      "outputs": [
        {
          "output_type": "execute_result",
          "data": {
            "text/plain": [
              "Text(69.0, 0.5, 'Ground Truth')"
            ]
          },
          "metadata": {},
          "execution_count": 14
        },
        {
          "output_type": "display_data",
          "data": {
            "text/plain": [
              "<Figure size 720x504 with 2 Axes>"
            ],
            "image/png": "[encoded data removed]"
          },
          "metadata": {
            "needs_background": "light"
          }
        }
      ]
    },
    {
      "cell_type": "code",
      "source": [
        "training.history.keys()"
      ],
      "metadata": {
        "id": "d7qU6wreGqm2",
        "colab": {
          "base_uri": "https://localhost:8080/"
        },
        "outputId": "eb2eed5d-099b-4726-8d8b-f27e093f0725"
      },
      "execution_count": 15,
      "outputs": [
        {
          "output_type": "execute_result",
          "data": {
            "text/plain": [
              "dict_keys(['loss', 'accuracy', 'val_loss', 'val_accuracy'])"
            ]
          },
          "metadata": {},
          "execution_count": 15
        }
      ]
    },
    {
      "cell_type": "code",
      "source": [],
      "metadata": {
        "id": "VJ1AEceAYXtQ"
      },
      "execution_count": null,
      "outputs": []
    },
    {
      "cell_type": "code",
      "source": [
        "accuracy = training.history['accuracy']\n",
        "val_acc= training.history['val_accuracy']\n",
        "plt.plot(range(len(accuracy)),accuracy,label='Training accuracy')\n",
        "plt.plot(range(len(accuracy)),val_acc,label='Validation accuracy')\n",
        "plt.xlabel('Epochs')\n",
        "plt.ylabel('Percentage')\n",
        "plt.legend()\n",
        "plt.show()"
      ],
      "metadata": {
        "colab": {
          "base_uri": "https://localhost:8080/",
          "height": 279
        },
        "id": "sXRDLtgDWAHi",
        "outputId": "c911324e-8415-4faf-d9af-ef5f72c491a0"
      },
      "execution_count": 18,
      "outputs": [
        {
          "output_type": "display_data",
          "data": {
            "text/plain": [
              "<Figure size 432x288 with 1 Axes>"
            ],
            "image/png": "[encoded data removed]"
          },
          "metadata": {
            "needs_background": "light"
          }
        }
      ]
    },
    {
      "cell_type": "code",
      "source": [
        "loss = training.history['loss']\n",
        "val_loss = training.history['val_loss']\n",
        "plt.plot(range(len(loss)),loss,label='Training loss')\n",
        "plt.plot(range(len(loss)),val_loss,label='Cross Val loss')\n",
        "plt.xlabel('Epochs')\n",
        "plt.ylabel('Percentage')\n",
        "plt.legend()\n",
        "plt.show()"
      ],
      "metadata": {
        "colab": {
          "base_uri": "https://localhost:8080/",
          "height": 279
        },
        "id": "WVxvuo_GYBgi",
        "outputId": "f866be5b-067f-434a-df9d-428869cf5b01"
      },
      "execution_count": 19,
      "outputs": [
        {
          "output_type": "display_data",
          "data": {
            "text/plain": [
              "<Figure size 432x288 with 1 Axes>"
            ],
            "image/png": "[encoded data removed]"
          },
          "metadata": {
            "needs_background": "light"
          }
        }
      ]
    },
    {
      "cell_type": "code",
      "source": [],
      "metadata": {
        "id": "ayPplLeDYqtS"
      },
      "execution_count": null,
      "outputs": []
    }
  ]
}