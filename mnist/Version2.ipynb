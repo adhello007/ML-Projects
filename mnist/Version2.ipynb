{
 "cells": [
  {
   "cell_type": "code",
   "execution_count": 1,
   "id": "63f96fba",
   "metadata": {},
   "outputs": [],
   "source": [
    "from sklearn.datasets import fetch_openml \n",
    "mnist = fetch_openml('mnist_784')"
   ]
  },
  {
   "cell_type": "code",
   "execution_count": 61,
   "id": "644a6cf4",
   "metadata": {},
   "outputs": [],
   "source": [
    "x,y = mnist['data'],mnist['target']\n"
   ]
  },
  {
   "cell_type": "code",
   "execution_count": 62,
   "id": "d9c0cc8a",
   "metadata": {},
   "outputs": [],
   "source": [
    "import numpy as np \n",
    "import tensorflow as tf"
   ]
  },
  {
   "cell_type": "code",
   "execution_count": 63,
   "id": "1df0be8a",
   "metadata": {},
   "outputs": [
    {
     "data": {
      "text/plain": [
       "(70000, 784)"
      ]
     },
     "execution_count": 63,
     "metadata": {},
     "output_type": "execute_result"
    }
   ],
   "source": [
    "x.shape"
   ]
  },
  {
   "cell_type": "code",
   "execution_count": 64,
   "id": "76c94b85",
   "metadata": {},
   "outputs": [],
   "source": [
    "# x = x.to_numpy() - this is already done but i cant redo it so this is commented. \n",
    "y = y.astype(np.int8)\n"
   ]
  },
  {
   "cell_type": "code",
   "execution_count": 65,
   "id": "83a6755a",
   "metadata": {},
   "outputs": [],
   "source": [
    "x_train,y_train = x[:60000],y[:60000]\n",
    "x_test,y_test= x[60000:],y[60000:]"
   ]
  },
  {
   "cell_type": "code",
   "execution_count": 66,
   "id": "2220c8f8",
   "metadata": {},
   "outputs": [
    {
     "data": {
      "text/plain": [
       "(10000, 784)"
      ]
     },
     "execution_count": 66,
     "metadata": {},
     "output_type": "execute_result"
    }
   ],
   "source": [
    "x_test.shape"
   ]
  },
  {
   "cell_type": "code",
   "execution_count": 67,
   "id": "81686977",
   "metadata": {},
   "outputs": [
    {
     "data": {
      "text/plain": [
       "0        5\n",
       "1        0\n",
       "2        4\n",
       "3        1\n",
       "4        9\n",
       "        ..\n",
       "59995    8\n",
       "59996    3\n",
       "59997    5\n",
       "59998    6\n",
       "59999    8\n",
       "Name: class, Length: 60000, dtype: int8"
      ]
     },
     "execution_count": 67,
     "metadata": {},
     "output_type": "execute_result"
    }
   ],
   "source": [
    "y_train"
   ]
  },
  {
   "cell_type": "code",
   "execution_count": 68,
   "id": "bf11f432",
   "metadata": {},
   "outputs": [],
   "source": [
    "y_test_t = y_test"
   ]
  },
  {
   "cell_type": "markdown",
   "id": "7983d97a",
   "metadata": {},
   "source": [
    "## one hot encoding y labels \n"
   ]
  },
  {
   "cell_type": "code",
   "execution_count": 69,
   "id": "94031c81",
   "metadata": {},
   "outputs": [],
   "source": [
    "from tensorflow.keras.utils import to_categorical\n",
    "y_train,y_test = to_categorical(y_train),to_categorical(y_test)"
   ]
  },
  {
   "cell_type": "markdown",
   "id": "dd289692",
   "metadata": {},
   "source": [
    "## normalise x "
   ]
  },
  {
   "cell_type": "code",
   "execution_count": 70,
   "id": "92a5cb6f",
   "metadata": {},
   "outputs": [],
   "source": [
    "x_train = x_train/255.0\n",
    "x_test = x_test/255.0"
   ]
  },
  {
   "cell_type": "markdown",
   "id": "4ad009aa",
   "metadata": {},
   "source": [
    "## create a model"
   ]
  },
  {
   "cell_type": "code",
   "execution_count": 71,
   "id": "73aa1911",
   "metadata": {},
   "outputs": [],
   "source": [
    "from tensorflow.keras.models import Sequential \n",
    "from tensorflow.keras.layers import Dense "
   ]
  },
  {
   "cell_type": "code",
   "execution_count": 72,
   "id": "45b23c07",
   "metadata": {},
   "outputs": [
    {
     "name": "stdout",
     "output_type": "stream",
     "text": [
      "Model: \"sequential_4\"\n",
      "_________________________________________________________________\n",
      " Layer (type)                Output Shape              Param #   \n",
      "=================================================================\n",
      " dense_14 (Dense)            (None, 128)               100480    \n",
      "                                                                 \n",
      " dense_15 (Dense)            (None, 128)               16512     \n",
      "                                                                 \n",
      " dense_16 (Dense)            (None, 10)                1290      \n",
      "                                                                 \n",
      "=================================================================\n",
      "Total params: 118,282\n",
      "Trainable params: 118,282\n",
      "Non-trainable params: 0\n",
      "_________________________________________________________________\n"
     ]
    }
   ],
   "source": [
    "model = Sequential([\n",
    "    Dense(128,activation='relu',input_shape=(784,)),\n",
    "    Dense(128,activation='relu'),\n",
    "    Dense(10,activation='softmax')\n",
    "])\n",
    "\n",
    "model.summary()"
   ]
  },
  {
   "cell_type": "markdown",
   "id": "fd06d5d2",
   "metadata": {},
   "source": [
    "## compile "
   ]
  },
  {
   "cell_type": "code",
   "execution_count": 73,
   "id": "da1093ea",
   "metadata": {},
   "outputs": [],
   "source": [
    "model.compile(\n",
    "    optimizer = 'sgd', \n",
    "    loss = 'categorical_crossentropy',\n",
    "    metrics = ['accuracy']\n",
    ")"
   ]
  },
  {
   "cell_type": "markdown",
   "id": "db81f720",
   "metadata": {},
   "source": [
    "## Train the model "
   ]
  },
  {
   "cell_type": "code",
   "execution_count": 74,
   "id": "04a6d6ae",
   "metadata": {},
   "outputs": [
    {
     "name": "stdout",
     "output_type": "stream",
     "text": [
      "Epoch 1/70\n",
      "750/750 [==============================] - 2s 2ms/step - loss: 1.0021 - accuracy: 0.7464 - val_loss: 0.4545 - val_accuracy: 0.8823\n",
      "Epoch 2/70\n",
      "750/750 [==============================] - 2s 2ms/step - loss: 0.4096 - accuracy: 0.8878 - val_loss: 0.3415 - val_accuracy: 0.9028\n",
      "Epoch 3/70\n",
      "750/750 [==============================] - 2s 3ms/step - loss: 0.3353 - accuracy: 0.9045 - val_loss: 0.2983 - val_accuracy: 0.9137\n",
      "Epoch 4/70\n",
      "750/750 [==============================] - 2s 2ms/step - loss: 0.2983 - accuracy: 0.9151 - val_loss: 0.2706 - val_accuracy: 0.9221\n",
      "Epoch 5/70\n",
      "750/750 [==============================] - 2s 2ms/step - loss: 0.2723 - accuracy: 0.9227 - val_loss: 0.2492 - val_accuracy: 0.9289\n",
      "Epoch 6/70\n",
      "750/750 [==============================] - 2s 2ms/step - loss: 0.2522 - accuracy: 0.9286 - val_loss: 0.2347 - val_accuracy: 0.9332\n",
      "Epoch 7/70\n",
      "750/750 [==============================] - 2s 2ms/step - loss: 0.2351 - accuracy: 0.9329 - val_loss: 0.2223 - val_accuracy: 0.9387\n",
      "Epoch 8/70\n",
      "750/750 [==============================] - 2s 2ms/step - loss: 0.2207 - accuracy: 0.9372 - val_loss: 0.2081 - val_accuracy: 0.9410\n",
      "Epoch 9/70\n",
      "750/750 [==============================] - 2s 2ms/step - loss: 0.2076 - accuracy: 0.9411 - val_loss: 0.2002 - val_accuracy: 0.9427\n",
      "Epoch 10/70\n",
      "750/750 [==============================] - 2s 2ms/step - loss: 0.1960 - accuracy: 0.9445 - val_loss: 0.1893 - val_accuracy: 0.9466\n",
      "Epoch 11/70\n",
      "750/750 [==============================] - 2s 2ms/step - loss: 0.1859 - accuracy: 0.9466 - val_loss: 0.1860 - val_accuracy: 0.9466\n",
      "Epoch 12/70\n",
      "750/750 [==============================] - 2s 2ms/step - loss: 0.1763 - accuracy: 0.9498 - val_loss: 0.1758 - val_accuracy: 0.9514\n",
      "Epoch 13/70\n",
      "750/750 [==============================] - 2s 2ms/step - loss: 0.1679 - accuracy: 0.9524 - val_loss: 0.1686 - val_accuracy: 0.9530\n",
      "Epoch 14/70\n",
      "750/750 [==============================] - 2s 2ms/step - loss: 0.1602 - accuracy: 0.9542 - val_loss: 0.1625 - val_accuracy: 0.9554\n",
      "Epoch 15/70\n",
      "750/750 [==============================] - 2s 2ms/step - loss: 0.1534 - accuracy: 0.9556 - val_loss: 0.1576 - val_accuracy: 0.9574\n",
      "Epoch 16/70\n",
      "750/750 [==============================] - 2s 3ms/step - loss: 0.1468 - accuracy: 0.9578 - val_loss: 0.1552 - val_accuracy: 0.9567\n",
      "Epoch 17/70\n",
      "750/750 [==============================] - 2s 3ms/step - loss: 0.1404 - accuracy: 0.9600 - val_loss: 0.1494 - val_accuracy: 0.9587\n",
      "Epoch 18/70\n",
      "750/750 [==============================] - 2s 2ms/step - loss: 0.1347 - accuracy: 0.9620 - val_loss: 0.1459 - val_accuracy: 0.9591\n",
      "Epoch 19/70\n",
      "750/750 [==============================] - 2s 2ms/step - loss: 0.1297 - accuracy: 0.9632 - val_loss: 0.1442 - val_accuracy: 0.9603\n",
      "Epoch 20/70\n",
      "750/750 [==============================] - 2s 2ms/step - loss: 0.1249 - accuracy: 0.9644 - val_loss: 0.1396 - val_accuracy: 0.9611\n",
      "Epoch 21/70\n",
      "750/750 [==============================] - 2s 2ms/step - loss: 0.1202 - accuracy: 0.9663 - val_loss: 0.1349 - val_accuracy: 0.9636\n",
      "Epoch 22/70\n",
      "750/750 [==============================] - 2s 2ms/step - loss: 0.1160 - accuracy: 0.9674 - val_loss: 0.1325 - val_accuracy: 0.9635\n",
      "Epoch 23/70\n",
      "750/750 [==============================] - 2s 2ms/step - loss: 0.1118 - accuracy: 0.9683 - val_loss: 0.1306 - val_accuracy: 0.9640\n",
      "Epoch 24/70\n",
      "750/750 [==============================] - 2s 2ms/step - loss: 0.1082 - accuracy: 0.9696 - val_loss: 0.1287 - val_accuracy: 0.9638\n",
      "Epoch 25/70\n",
      "750/750 [==============================] - 2s 2ms/step - loss: 0.1044 - accuracy: 0.9704 - val_loss: 0.1255 - val_accuracy: 0.9641\n",
      "Epoch 26/70\n",
      "750/750 [==============================] - 2s 2ms/step - loss: 0.1010 - accuracy: 0.9714 - val_loss: 0.1232 - val_accuracy: 0.9655\n",
      "Epoch 27/70\n",
      "750/750 [==============================] - 2s 2ms/step - loss: 0.0980 - accuracy: 0.9728 - val_loss: 0.1224 - val_accuracy: 0.9657\n",
      "Epoch 28/70\n",
      "750/750 [==============================] - 2s 2ms/step - loss: 0.0948 - accuracy: 0.9739 - val_loss: 0.1211 - val_accuracy: 0.9654\n",
      "Epoch 29/70\n",
      "750/750 [==============================] - 2s 2ms/step - loss: 0.0919 - accuracy: 0.9748 - val_loss: 0.1182 - val_accuracy: 0.9664\n",
      "Epoch 30/70\n",
      "750/750 [==============================] - 2s 2ms/step - loss: 0.0892 - accuracy: 0.9753 - val_loss: 0.1179 - val_accuracy: 0.9653\n",
      "Epoch 31/70\n",
      "750/750 [==============================] - 2s 3ms/step - loss: 0.0863 - accuracy: 0.9763 - val_loss: 0.1151 - val_accuracy: 0.9670\n",
      "Epoch 32/70\n",
      "750/750 [==============================] - 2s 2ms/step - loss: 0.0836 - accuracy: 0.9768 - val_loss: 0.1139 - val_accuracy: 0.9673\n",
      "Epoch 33/70\n",
      "750/750 [==============================] - 2s 2ms/step - loss: 0.0813 - accuracy: 0.9775 - val_loss: 0.1134 - val_accuracy: 0.9681\n",
      "Epoch 34/70\n",
      "750/750 [==============================] - 2s 2ms/step - loss: 0.0790 - accuracy: 0.9783 - val_loss: 0.1120 - val_accuracy: 0.9679\n",
      "Epoch 35/70\n",
      "750/750 [==============================] - 2s 2ms/step - loss: 0.0767 - accuracy: 0.9788 - val_loss: 0.1099 - val_accuracy: 0.9678\n",
      "Epoch 36/70\n",
      "750/750 [==============================] - 2s 2ms/step - loss: 0.0745 - accuracy: 0.9798 - val_loss: 0.1082 - val_accuracy: 0.9679\n",
      "Epoch 37/70\n",
      "750/750 [==============================] - 2s 3ms/step - loss: 0.0725 - accuracy: 0.9800 - val_loss: 0.1076 - val_accuracy: 0.9689\n",
      "Epoch 38/70\n",
      "750/750 [==============================] - 2s 3ms/step - loss: 0.0704 - accuracy: 0.9802 - val_loss: 0.1075 - val_accuracy: 0.9692\n",
      "Epoch 39/70\n",
      "750/750 [==============================] - 2s 2ms/step - loss: 0.0685 - accuracy: 0.9816 - val_loss: 0.1072 - val_accuracy: 0.9682\n",
      "Epoch 40/70\n",
      "750/750 [==============================] - 2s 2ms/step - loss: 0.0667 - accuracy: 0.9816 - val_loss: 0.1044 - val_accuracy: 0.9690\n",
      "Epoch 41/70\n",
      "750/750 [==============================] - 2s 2ms/step - loss: 0.0649 - accuracy: 0.9825 - val_loss: 0.1041 - val_accuracy: 0.9696\n",
      "Epoch 42/70\n",
      "750/750 [==============================] - 2s 2ms/step - loss: 0.0630 - accuracy: 0.9831 - val_loss: 0.1030 - val_accuracy: 0.9695\n",
      "Epoch 43/70\n",
      "750/750 [==============================] - 2s 2ms/step - loss: 0.0617 - accuracy: 0.9834 - val_loss: 0.1024 - val_accuracy: 0.9702\n",
      "Epoch 44/70\n",
      "750/750 [==============================] - 2s 2ms/step - loss: 0.0598 - accuracy: 0.9841 - val_loss: 0.1013 - val_accuracy: 0.9697\n",
      "Epoch 45/70\n",
      "750/750 [==============================] - 2s 2ms/step - loss: 0.0582 - accuracy: 0.9846 - val_loss: 0.1007 - val_accuracy: 0.9703\n",
      "Epoch 46/70\n",
      "750/750 [==============================] - 2s 2ms/step - loss: 0.0569 - accuracy: 0.9854 - val_loss: 0.1000 - val_accuracy: 0.9710\n",
      "Epoch 47/70\n",
      "750/750 [==============================] - 2s 2ms/step - loss: 0.0555 - accuracy: 0.9857 - val_loss: 0.0993 - val_accuracy: 0.9709\n",
      "Epoch 48/70\n",
      "750/750 [==============================] - 2s 2ms/step - loss: 0.0541 - accuracy: 0.9861 - val_loss: 0.0989 - val_accuracy: 0.9707\n",
      "Epoch 49/70\n",
      "750/750 [==============================] - 2s 2ms/step - loss: 0.0528 - accuracy: 0.9866 - val_loss: 0.0986 - val_accuracy: 0.9707\n",
      "Epoch 50/70\n",
      "750/750 [==============================] - 2s 3ms/step - loss: 0.0515 - accuracy: 0.9869 - val_loss: 0.0978 - val_accuracy: 0.9712\n",
      "Epoch 51/70\n",
      "750/750 [==============================] - 2s 3ms/step - loss: 0.0501 - accuracy: 0.9872 - val_loss: 0.0989 - val_accuracy: 0.9713\n",
      "Epoch 52/70\n",
      "750/750 [==============================] - 2s 3ms/step - loss: 0.0490 - accuracy: 0.9873 - val_loss: 0.0974 - val_accuracy: 0.9717\n",
      "Epoch 53/70\n",
      "750/750 [==============================] - 2s 3ms/step - loss: 0.0477 - accuracy: 0.9882 - val_loss: 0.0975 - val_accuracy: 0.9712\n",
      "Epoch 54/70\n",
      "750/750 [==============================] - 2s 2ms/step - loss: 0.0466 - accuracy: 0.9883 - val_loss: 0.0975 - val_accuracy: 0.9716\n",
      "Epoch 55/70\n",
      "750/750 [==============================] - 2s 3ms/step - loss: 0.0455 - accuracy: 0.9886 - val_loss: 0.0976 - val_accuracy: 0.9722\n",
      "Epoch 56/70\n",
      "750/750 [==============================] - 2s 3ms/step - loss: 0.0447 - accuracy: 0.9888 - val_loss: 0.0967 - val_accuracy: 0.9722\n",
      "Epoch 57/70\n",
      "750/750 [==============================] - 2s 3ms/step - loss: 0.0433 - accuracy: 0.9893 - val_loss: 0.0967 - val_accuracy: 0.9717\n",
      "Epoch 58/70\n",
      "750/750 [==============================] - 2s 3ms/step - loss: 0.0424 - accuracy: 0.9897 - val_loss: 0.0956 - val_accuracy: 0.9716\n",
      "Epoch 59/70\n",
      "750/750 [==============================] - 2s 2ms/step - loss: 0.0415 - accuracy: 0.9898 - val_loss: 0.0951 - val_accuracy: 0.9728\n",
      "Epoch 60/70\n",
      "750/750 [==============================] - 2s 3ms/step - loss: 0.0405 - accuracy: 0.9902 - val_loss: 0.0962 - val_accuracy: 0.9719\n",
      "Epoch 61/70\n",
      "750/750 [==============================] - 2s 2ms/step - loss: 0.0395 - accuracy: 0.9905 - val_loss: 0.0951 - val_accuracy: 0.9719\n",
      "Epoch 62/70\n",
      "750/750 [==============================] - 2s 2ms/step - loss: 0.0387 - accuracy: 0.9905 - val_loss: 0.0965 - val_accuracy: 0.9725\n",
      "Epoch 63/70\n",
      "750/750 [==============================] - 2s 2ms/step - loss: 0.0378 - accuracy: 0.9911 - val_loss: 0.0943 - val_accuracy: 0.9727\n",
      "Epoch 64/70\n",
      "750/750 [==============================] - 2s 3ms/step - loss: 0.0369 - accuracy: 0.9912 - val_loss: 0.0943 - val_accuracy: 0.9720\n",
      "Epoch 65/70\n",
      "750/750 [==============================] - 2s 3ms/step - loss: 0.0361 - accuracy: 0.9915 - val_loss: 0.0944 - val_accuracy: 0.9725\n",
      "Epoch 66/70\n",
      "750/750 [==============================] - 2s 3ms/step - loss: 0.0351 - accuracy: 0.9919 - val_loss: 0.0955 - val_accuracy: 0.9726\n",
      "Epoch 67/70\n",
      "750/750 [==============================] - 2s 3ms/step - loss: 0.0344 - accuracy: 0.9922 - val_loss: 0.0944 - val_accuracy: 0.9726\n",
      "Epoch 68/70\n",
      "750/750 [==============================] - 2s 3ms/step - loss: 0.0337 - accuracy: 0.9924 - val_loss: 0.0951 - val_accuracy: 0.9725\n",
      "Epoch 69/70\n",
      "750/750 [==============================] - 2s 3ms/step - loss: 0.0330 - accuracy: 0.9927 - val_loss: 0.0936 - val_accuracy: 0.9726\n",
      "Epoch 70/70\n",
      "750/750 [==============================] - 2s 3ms/step - loss: 0.0321 - accuracy: 0.9927 - val_loss: 0.0936 - val_accuracy: 0.9731\n"
     ]
    }
   ],
   "source": [
    "training = model.fit(x_train,y_train,batch_size=64,epochs = 20,validation_split=0.2,verbose=1)"
   ]
  },
  {
   "cell_type": "markdown",
   "id": "f2008e81",
   "metadata": {},
   "source": [
    "## Evaluate the model "
   ]
  },
  {
   "cell_type": "code",
   "execution_count": 75,
   "id": "3a9b147d",
   "metadata": {},
   "outputs": [
    {
     "name": "stdout",
     "output_type": "stream",
     "text": [
      "313/313 [==============================] - 0s 1ms/step - loss: 0.0795 - accuracy: 0.9746\n"
     ]
    }
   ],
   "source": [
    "accuracy = model.evaluate(x_test,y_test)"
   ]
  },
  {
   "cell_type": "code",
   "execution_count": 76,
   "id": "4fe74956",
   "metadata": {},
   "outputs": [
    {
     "name": "stdout",
     "output_type": "stream",
     "text": [
      "dict_keys(['loss', 'accuracy', 'val_loss', 'val_accuracy'])\n"
     ]
    }
   ],
   "source": [
    "print(training.history.\n",
    "      keys())"
   ]
  },
  {
   "cell_type": "markdown",
   "id": "a00bc592",
   "metadata": {},
   "source": [
    "## Accuracy and Loss Plots "
   ]
  },
  {
   "cell_type": "code",
   "execution_count": 77,
   "id": "33dad443",
   "metadata": {},
   "outputs": [
    {
     "data": {
      "image/png": "[encoded data removed]",
      "text/plain": [
       "<Figure size 1500x600 with 2 Axes>"
      ]
     },
     "metadata": {},
     "output_type": "display_data"
    }
   ],
   "source": [
    "import matplotlib.pyplot as plt\n",
    "%matplotlib inline\n",
    "\n",
    "plt.figure(figsize = (15,6))\n",
    "plt.subplot(1,2,1)\n",
    "plt.plot(training.history['accuracy'])\n",
    "plt.plot(training.history['val_accuracy'])\n",
    "plt.title('Model Accuracy')\n",
    "plt.xlabel('Epochs')\n",
    "plt.ylabel('Accuracy')\n",
    "plt.legend(['Train', 'Test'], loc = 'lower right')\n",
    "plt.subplot(1,2,2)\n",
    "plt.plot(training.history['loss'])\n",
    "plt.plot(training.history['val_loss'])\n",
    "plt.title('Model Loss')\n",
    "plt.xlabel('Epochs')\n",
    "plt.ylabel('Loss')\n",
    "plt.legend(['Train', 'Test'], loc = 'upper left')\n",
    "plt.tight_layout()"
   ]
  },
  {
   "cell_type": "markdown",
   "id": "97d01dd0",
   "metadata": {},
   "source": [
    "## Predictions"
   ]
  },
  {
   "cell_type": "code",
   "execution_count": 78,
   "id": "031ba6dc",
   "metadata": {},
   "outputs": [
    {
     "name": "stdout",
     "output_type": "stream",
     "text": [
      "313/313 [==============================] - 0s 1ms/step\n"
     ]
    }
   ],
   "source": [
    "preds = model.predict(x_test)\n"
   ]
  },
  {
   "cell_type": "code",
   "execution_count": 1,
   "id": "35e051ef",
   "metadata": {},
   "outputs": [
    {
     "ename": "NameError",
     "evalue": "name 'preds' is not defined",
     "output_type": "error",
     "traceback": [
      "\u001b[1;31m---------------------------------------------------------------------------\u001b[0m",
      "\u001b[1;31mNameError\u001b[0m                                 Traceback (most recent call last)",
      "\u001b[1;32m~\\AppData\\Local\\Temp\\ipykernel_4532\\2981413532.py\u001b[0m in \u001b[0;36m<module>\u001b[1;34m\u001b[0m\n\u001b[1;32m----> 1\u001b[1;33m \u001b[0mpreds\u001b[0m\u001b[1;33m[\u001b[0m\u001b[1;36m0\u001b[0m\u001b[1;33m]\u001b[0m\u001b[1;33m.\u001b[0m\u001b[0mshape\u001b[0m\u001b[1;33m\u001b[0m\u001b[1;33m\u001b[0m\u001b[0m\n\u001b[0m",
      "\u001b[1;31mNameError\u001b[0m: name 'preds' is not defined"
     ]
    }
   ],
   "source": [
    "preds[0].shape"
   ]
  },
  {
   "cell_type": "code",
   "execution_count": 84,
   "id": "a1d1695d",
   "metadata": {},
   "outputs": [],
   "source": [
    "y_test_t = y_test_t.to_numpy()"
   ]
  },
  {
   "cell_type": "code",
   "execution_count": 85,
   "id": "25ff2481",
   "metadata": {},
   "outputs": [
    {
     "name": "stdout",
     "output_type": "stream",
     "text": [
      "1\n",
      "1\n"
     ]
    }
   ],
   "source": [
    "pred = np.argmax(preds[2])\n",
    "print(pred)\n",
    "gt = y_test_t[2]\n",
    "print(gt)"
   ]
  },
  {
   "cell_type": "code",
   "execution_count": null,
   "id": "7d13bf05",
   "metadata": {},
   "outputs": [],
   "source": []
  }
 ],
 "metadata": {
  "kernelspec": {
   "display_name": "Python 3 (ipykernel)",
   "language": "python",
   "name": "python3"
  },
  "language_info": {
   "codemirror_mode": {
    "name": "ipython",
    "version": 3
   },
   "file_extension": ".py",
   "mimetype": "text/x-python",
   "name": "python",
   "nbconvert_exporter": "python",
   "pygments_lexer": "ipython3",
   "version": "3.9.13"
  }
 },
 "nbformat": 4,
 "nbformat_minor": 5
}
